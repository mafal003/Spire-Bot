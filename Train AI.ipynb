{
 "cells": [
  {
   "cell_type": "code",
   "execution_count": 1,
   "metadata": {},
   "outputs": [
    {
     "name": "stdout",
     "output_type": "stream",
     "text": [
      "Du hast ein neues Relikt erhalten: Burning Blood (0)\n"
     ]
    }
   ],
   "source": [
    "#Einfügen des imports\n",
    "\n",
    "%run world.py\n"
   ]
  },
  {
   "cell_type": "code",
   "execution_count": null,
   "metadata": {},
   "outputs": [
    {
     "name": "stdout",
     "output_type": "stream",
     "text": [
      "Seed: 111857\n",
      "Red Louse (Monster111858) erhält den Buff: Curl Up 12\n",
      "Red Louse (Monster111859) erhält den Buff: Curl Up 12\n",
      "Combat started!\n",
      "Player: Ironclad (0)\n",
      "Encounter: ['Red Louse (Monster111858)', 'Red Louse (Monster111859)']\n",
      "\n",
      "Round 1\n",
      "Red Louse intends to use Attack dealing 6 damage.\n",
      "Red Louse intends to use Attack dealing 6 damage.\n",
      "Du ziehst Defend.\n",
      "Du ziehst Strike.\n",
      "Du ziehst Strike.\n",
      "Du ziehst Strike.\n",
      "Du ziehst Strike.\n"
     ]
    }
   ],
   "source": [
    "\n",
    "# Generiere einen zufälligen Seed\n",
    "seed = random.randint(0, 1000000)\n",
    "seed = 111857\n",
    "#seed=193080\n",
    "# Beispiel für die Erstellung einer Welt\n",
    "#welt = World(seed=seed)\n",
    "welt = World(seed=seed,autoplay=True)"
   ]
  }
 ],
 "metadata": {
  "kernelspec": {
   "display_name": "Python 3",
   "language": "python",
   "name": "python3"
  },
  "language_info": {
   "codemirror_mode": {
    "name": "ipython",
    "version": 3
   },
   "file_extension": ".py",
   "mimetype": "text/x-python",
   "name": "python",
   "nbconvert_exporter": "python",
   "pygments_lexer": "ipython3",
   "version": "3.12.0"
  }
 },
 "nbformat": 4,
 "nbformat_minor": 2
}
